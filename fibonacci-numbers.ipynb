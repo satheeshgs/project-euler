{
 "cells": [
  {
   "cell_type": "code",
   "execution_count": 107,
   "metadata": {},
   "outputs": [],
   "source": [
    "#this function gives the number of fibonacci numbers below a specific number\n",
    "def fibonumber(num):\n",
    "    a = 1\n",
    "    b = 2\n",
    "    if(num>1):\n",
    "        j=2\n",
    "        while(b<num):\n",
    "            c=a+b\n",
    "            a=b\n",
    "            b=c\n",
    "            j=j+1\n",
    "        return(j+1)"
   ]
  },
  {
   "cell_type": "code",
   "execution_count": 108,
   "metadata": {},
   "outputs": [],
   "source": [
    "#this function returns the nth fibonaccci number\n",
    "def fibon(num):\n",
    "    a=1\n",
    "    b=1\n",
    "    if(num==1):\n",
    "        return(a)\n",
    "    elif(num>1):\n",
    "        for i in range(2,num):\n",
    "            c=a+b\n",
    "            a=b\n",
    "            b=c\n",
    "        return(b)"
   ]
  },
  {
   "cell_type": "code",
   "execution_count": 109,
   "metadata": {},
   "outputs": [],
   "source": [
    "x=4000000"
   ]
  },
  {
   "cell_type": "code",
   "execution_count": 110,
   "metadata": {},
   "outputs": [
    {
     "data": {
      "text/plain": [
       "34"
      ]
     },
     "execution_count": 110,
     "metadata": {},
     "output_type": "execute_result"
    }
   ],
   "source": [
    "fibonumber(x)"
   ]
  },
  {
   "cell_type": "code",
   "execution_count": 113,
   "metadata": {},
   "outputs": [
    {
     "name": "stdout",
     "output_type": "stream",
     "text": [
      "2\n",
      "10\n",
      "44\n",
      "188\n",
      "798\n",
      "3382\n",
      "14328\n",
      "60696\n",
      "257114\n",
      "1089154\n",
      "4613732\n"
     ]
    }
   ],
   "source": [
    "sum = 0\n",
    "for i in range(1,fibonumber(x)):\n",
    "    if fibon(i)%2==0:\n",
    "        sum=sum+fibon(i)\n",
    "        print(sum)"
   ]
  },
  {
   "cell_type": "code",
   "execution_count": 112,
   "metadata": {},
   "outputs": [
    {
     "data": {
      "text/plain": [
       "4613732"
      ]
     },
     "execution_count": 112,
     "metadata": {},
     "output_type": "execute_result"
    }
   ],
   "source": [
    "sum"
   ]
  },
  {
   "cell_type": "code",
   "execution_count": null,
   "metadata": {},
   "outputs": [],
   "source": []
  }
 ],
 "metadata": {
  "kernelspec": {
   "display_name": "Python 3",
   "language": "python",
   "name": "python3"
  },
  "language_info": {
   "codemirror_mode": {
    "name": "ipython",
    "version": 3
   },
   "file_extension": ".py",
   "mimetype": "text/x-python",
   "name": "python",
   "nbconvert_exporter": "python",
   "pygments_lexer": "ipython3",
   "version": "3.7.6"
  }
 },
 "nbformat": 4,
 "nbformat_minor": 4
}
